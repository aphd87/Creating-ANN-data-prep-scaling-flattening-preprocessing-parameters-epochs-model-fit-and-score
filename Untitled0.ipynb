{
  "nbformat": 4,
  "nbformat_minor": 0,
  "metadata": {
    "colab": {
      "provenance": []
    },
    "kernelspec": {
      "name": "python3",
      "display_name": "Python 3"
    },
    "language_info": {
      "name": "python"
    }
  },
  "cells": [
    {
      "cell_type": "code",
      "execution_count": 77,
      "metadata": {
        "id": "qjwcr4of3u0z"
      },
      "outputs": [],
      "source": [
        "#Import library\n",
        "#Dataset preparation-scaling, faltten, preprocessing\n",
        "#Build the model-Architecture\n",
        "#Compile the model\n",
        "#Fit the model\n",
        "#Evaluate the model"
      ]
    },
    {
      "cell_type": "code",
      "source": [
        "#Import the library\n",
        "import keras\n",
        "from keras.datasets import mnist\n",
        "from keras.models import Sequential #appropriate for plain stack of layers where each layer has exactly one input tensor and one output tensor\n",
        "from keras.layers import  Dense, Dropout\n",
        "from tensorflow.keras.optimizers import Adam   #Adam is\n",
        "from keras.utils import np_utils\n",
        "import seaborn as sns"
      ],
      "metadata": {
        "id": "s3HE3fmC5Nk2"
      },
      "execution_count": 118,
      "outputs": []
    },
    {
      "cell_type": "markdown",
      "source": [
        "Data Preparation - Scaling, flattening, preprocessing \n"
      ],
      "metadata": {
        "id": "OCUyBID36Z4X"
      }
    },
    {
      "cell_type": "code",
      "source": [
        "(X_train, y_train),(X_test,y_test)=mnist.load_data() "
      ],
      "metadata": {
        "id": "Pqqos4No5QQn"
      },
      "execution_count": 79,
      "outputs": []
    },
    {
      "cell_type": "code",
      "source": [
        "X_train.shape #No of images, Height, Width"
      ],
      "metadata": {
        "colab": {
          "base_uri": "https://localhost:8080/"
        },
        "id": "MtSZ23U76xGw",
        "outputId": "18b45021-9920-4a2f-c7d2-6f08a262ba79"
      },
      "execution_count": 80,
      "outputs": [
        {
          "output_type": "execute_result",
          "data": {
            "text/plain": [
              "(60000, 28, 28)"
            ]
          },
          "metadata": {},
          "execution_count": 80
        }
      ]
    },
    {
      "cell_type": "code",
      "source": [
        "X_train"
      ],
      "metadata": {
        "colab": {
          "base_uri": "https://localhost:8080/"
        },
        "id": "EM-qTMtb65Kw",
        "outputId": "e80f2326-d83a-4ea6-81b6-9b34a2219d31"
      },
      "execution_count": 81,
      "outputs": [
        {
          "output_type": "execute_result",
          "data": {
            "text/plain": [
              "array([[[0, 0, 0, ..., 0, 0, 0],\n",
              "        [0, 0, 0, ..., 0, 0, 0],\n",
              "        [0, 0, 0, ..., 0, 0, 0],\n",
              "        ...,\n",
              "        [0, 0, 0, ..., 0, 0, 0],\n",
              "        [0, 0, 0, ..., 0, 0, 0],\n",
              "        [0, 0, 0, ..., 0, 0, 0]],\n",
              "\n",
              "       [[0, 0, 0, ..., 0, 0, 0],\n",
              "        [0, 0, 0, ..., 0, 0, 0],\n",
              "        [0, 0, 0, ..., 0, 0, 0],\n",
              "        ...,\n",
              "        [0, 0, 0, ..., 0, 0, 0],\n",
              "        [0, 0, 0, ..., 0, 0, 0],\n",
              "        [0, 0, 0, ..., 0, 0, 0]],\n",
              "\n",
              "       [[0, 0, 0, ..., 0, 0, 0],\n",
              "        [0, 0, 0, ..., 0, 0, 0],\n",
              "        [0, 0, 0, ..., 0, 0, 0],\n",
              "        ...,\n",
              "        [0, 0, 0, ..., 0, 0, 0],\n",
              "        [0, 0, 0, ..., 0, 0, 0],\n",
              "        [0, 0, 0, ..., 0, 0, 0]],\n",
              "\n",
              "       ...,\n",
              "\n",
              "       [[0, 0, 0, ..., 0, 0, 0],\n",
              "        [0, 0, 0, ..., 0, 0, 0],\n",
              "        [0, 0, 0, ..., 0, 0, 0],\n",
              "        ...,\n",
              "        [0, 0, 0, ..., 0, 0, 0],\n",
              "        [0, 0, 0, ..., 0, 0, 0],\n",
              "        [0, 0, 0, ..., 0, 0, 0]],\n",
              "\n",
              "       [[0, 0, 0, ..., 0, 0, 0],\n",
              "        [0, 0, 0, ..., 0, 0, 0],\n",
              "        [0, 0, 0, ..., 0, 0, 0],\n",
              "        ...,\n",
              "        [0, 0, 0, ..., 0, 0, 0],\n",
              "        [0, 0, 0, ..., 0, 0, 0],\n",
              "        [0, 0, 0, ..., 0, 0, 0]],\n",
              "\n",
              "       [[0, 0, 0, ..., 0, 0, 0],\n",
              "        [0, 0, 0, ..., 0, 0, 0],\n",
              "        [0, 0, 0, ..., 0, 0, 0],\n",
              "        ...,\n",
              "        [0, 0, 0, ..., 0, 0, 0],\n",
              "        [0, 0, 0, ..., 0, 0, 0],\n",
              "        [0, 0, 0, ..., 0, 0, 0]]], dtype=uint8)"
            ]
          },
          "metadata": {},
          "execution_count": 81
        }
      ]
    },
    {
      "cell_type": "code",
      "source": [
        "X_test.shape #Testing sample is smaller than training sample"
      ],
      "metadata": {
        "colab": {
          "base_uri": "https://localhost:8080/"
        },
        "id": "6gERrG8r7hiF",
        "outputId": "b8048141-8e32-4b3f-d7d6-e7d6e8411ba6"
      },
      "execution_count": 89,
      "outputs": [
        {
          "output_type": "execute_result",
          "data": {
            "text/plain": [
              "(10000, 784)"
            ]
          },
          "metadata": {},
          "execution_count": 89
        }
      ]
    },
    {
      "cell_type": "markdown",
      "source": [
        "Remember, red, green, and blue serve as three channels, as each image relies on these colors. Additionally, you will need to flatten 28x28 - 784 features will be here...you cannot pass 2D data."
      ],
      "metadata": {
        "id": "eXTuRZoy8oM-"
      }
    },
    {
      "cell_type": "code",
      "source": [
        "#Flatten\n",
        "X_train = X_train.reshape(60000,784)\n",
        "X_test = X_test.reshape(10000,784)\n",
        "\n",
        "#input data @ to 255 scale them in 0 to 1\n",
        "X_train=X_train.astype('float32')\n",
        "X_test = X_test.astype('float32')\n",
        "\n",
        "X_train/=255\n",
        "X_test/=255"
      ],
      "metadata": {
        "id": "lmyiuvNb8t54"
      },
      "execution_count": 90,
      "outputs": []
    },
    {
      "cell_type": "code",
      "source": [
        "X_train.shape"
      ],
      "metadata": {
        "colab": {
          "base_uri": "https://localhost:8080/"
        },
        "id": "4uYJgNP79uXp",
        "outputId": "b5a0245f-9fac-4480-b46b-812269ff4eea"
      },
      "execution_count": 91,
      "outputs": [
        {
          "output_type": "execute_result",
          "data": {
            "text/plain": [
              "(60000, 784)"
            ]
          },
          "metadata": {},
          "execution_count": 91
        }
      ]
    },
    {
      "cell_type": "code",
      "source": [
        "X_train"
      ],
      "metadata": {
        "colab": {
          "base_uri": "https://localhost:8080/"
        },
        "id": "uCcZEL8I-q3A",
        "outputId": "a623921f-ee72-4b61-b990-003e806f1851"
      },
      "execution_count": 92,
      "outputs": [
        {
          "output_type": "execute_result",
          "data": {
            "text/plain": [
              "array([[0., 0., 0., ..., 0., 0., 0.],\n",
              "       [0., 0., 0., ..., 0., 0., 0.],\n",
              "       [0., 0., 0., ..., 0., 0., 0.],\n",
              "       ...,\n",
              "       [0., 0., 0., ..., 0., 0., 0.],\n",
              "       [0., 0., 0., ..., 0., 0., 0.],\n",
              "       [0., 0., 0., ..., 0., 0., 0.]], dtype=float32)"
            ]
          },
          "metadata": {},
          "execution_count": 92
        }
      ]
    },
    {
      "cell_type": "code",
      "source": [
        "X_test.shape"
      ],
      "metadata": {
        "colab": {
          "base_uri": "https://localhost:8080/"
        },
        "id": "_akchHJb-ty2",
        "outputId": "b012784e-b230-43c8-c10a-14ecc266bfaf"
      },
      "execution_count": 93,
      "outputs": [
        {
          "output_type": "execute_result",
          "data": {
            "text/plain": [
              "(10000, 784)"
            ]
          },
          "metadata": {},
          "execution_count": 93
        }
      ]
    },
    {
      "cell_type": "code",
      "source": [
        "y_train #These are your class labels - you have 0-9 classes, so you have 10"
      ],
      "metadata": {
        "colab": {
          "base_uri": "https://localhost:8080/"
        },
        "id": "JDjEImSU-zAe",
        "outputId": "13c13bd0-3b4f-4db3-8790-f58b5463d3cc"
      },
      "execution_count": 94,
      "outputs": [
        {
          "output_type": "execute_result",
          "data": {
            "text/plain": [
              "array([5, 0, 4, ..., 5, 6, 8], dtype=uint8)"
            ]
          },
          "metadata": {},
          "execution_count": 94
        }
      ]
    },
    {
      "cell_type": "code",
      "source": [
        "#Convert labels into 0 and 1\n",
        "num_classes=10\n",
        "y_train=np_utils.to_categorical(y_train, num_classes)\n",
        "y_test=np_utils.to_categorical(y_test,num_classes)"
      ],
      "metadata": {
        "id": "JHahFVG9_Io1"
      },
      "execution_count": 95,
      "outputs": []
    },
    {
      "cell_type": "code",
      "source": [
        "y_train"
      ],
      "metadata": {
        "colab": {
          "base_uri": "https://localhost:8080/"
        },
        "id": "y8R-gE0X_Qjl",
        "outputId": "175d235d-b9a1-457c-c253-fe7fec04b7f3"
      },
      "execution_count": 96,
      "outputs": [
        {
          "output_type": "execute_result",
          "data": {
            "text/plain": [
              "array([[0., 0., 0., ..., 0., 0., 0.],\n",
              "       [1., 0., 0., ..., 0., 0., 0.],\n",
              "       [0., 0., 0., ..., 0., 0., 0.],\n",
              "       ...,\n",
              "       [0., 0., 0., ..., 0., 0., 0.],\n",
              "       [0., 0., 0., ..., 0., 0., 0.],\n",
              "       [0., 0., 0., ..., 0., 1., 0.]], dtype=float32)"
            ]
          },
          "metadata": {},
          "execution_count": 96
        }
      ]
    },
    {
      "cell_type": "code",
      "source": [
        "y_train.shape"
      ],
      "metadata": {
        "colab": {
          "base_uri": "https://localhost:8080/"
        },
        "id": "gjA27jSNAwKX",
        "outputId": "da73af71-7ae5-48f4-cd5a-ce6f5a15a117"
      },
      "execution_count": 97,
      "outputs": [
        {
          "output_type": "execute_result",
          "data": {
            "text/plain": [
              "(60000, 10)"
            ]
          },
          "metadata": {},
          "execution_count": 97
        }
      ]
    },
    {
      "cell_type": "code",
      "source": [
        "#Specify Parameters"
      ],
      "metadata": {
        "id": "YNWr4hYmAw8n"
      },
      "execution_count": 98,
      "outputs": []
    },
    {
      "cell_type": "code",
      "source": [
        "#Epochs\n",
        "\n",
        "epochs=20\n",
        "batch_size=128"
      ],
      "metadata": {
        "id": "ykVizjdQBXKH"
      },
      "execution_count": 99,
      "outputs": []
    },
    {
      "cell_type": "code",
      "source": [
        "#Build the model - Architecture - 2 hidden layers, 512 nodes in both hidden layers"
      ],
      "metadata": {
        "id": "Luw3ZP9bBZ6w"
      },
      "execution_count": 100,
      "outputs": []
    },
    {
      "cell_type": "code",
      "source": [
        "#model is object, Sequential is class - Every model you add, will add a layer\n",
        "model=Sequential()\n",
        "# first hidden layer\n",
        "model.add(Dense(512,activation='relu',input_shape=(784,)))\n",
        "# second hidden layer\n",
        "model.add(Dense(512,activation='relu'))\n",
        "# output layer\n",
        "model.add(Dense(num_classes,activation='softmax'))"
      ],
      "metadata": {
        "id": "HAfYGgE8B415"
      },
      "execution_count": 104,
      "outputs": []
    },
    {
      "cell_type": "code",
      "source": [
        "model.summary()"
      ],
      "metadata": {
        "colab": {
          "base_uri": "https://localhost:8080/"
        },
        "id": "WaxjFypUChY1",
        "outputId": "648043ba-9f7c-412f-cffd-0ba12b62ae25"
      },
      "execution_count": 105,
      "outputs": [
        {
          "output_type": "stream",
          "name": "stdout",
          "text": [
            "Model: \"sequential_3\"\n",
            "_________________________________________________________________\n",
            " Layer (type)                Output Shape              Param #   \n",
            "=================================================================\n",
            " dense_2 (Dense)             (None, 512)               401920    \n",
            "                                                                 \n",
            " dense_3 (Dense)             (None, 512)               262656    \n",
            "                                                                 \n",
            " dense_4 (Dense)             (None, 10)                5130      \n",
            "                                                                 \n",
            "=================================================================\n",
            "Total params: 669,706\n",
            "Trainable params: 669,706\n",
            "Non-trainable params: 0\n",
            "_________________________________________________________________\n"
          ]
        }
      ]
    },
    {
      "cell_type": "code",
      "source": [
        "#Initially, input was 784, now it is 512 across both hidden layers, at the end we have 10 classes\n",
        "#Hidden layers - Relu\n",
        "#Final output layer - softmax function (more than 2 classes), otherwise use sigmoid"
      ],
      "metadata": {
        "id": "n7dwiRuXDy9N"
      },
      "execution_count": 106,
      "outputs": []
    },
    {
      "cell_type": "code",
      "source": [
        "#Compile the model "
      ],
      "metadata": {
        "id": "fk3FI_dWEN3d"
      },
      "execution_count": 107,
      "outputs": []
    },
    {
      "cell_type": "code",
      "source": [
        "model.compile(loss='categorical_crossentropy', optimizer='Adam',metrics=['accuracy']) #cross entropy because we have more than 2 classes"
      ],
      "metadata": {
        "id": "coGaXxi5ESZ9"
      },
      "execution_count": 110,
      "outputs": []
    },
    {
      "cell_type": "code",
      "source": [
        "#Fit the model\n",
        "#Epochs - I need to scan the complete data - Number of times I need to scan the complete data (cycles)\n",
        "#Batch size - I have 60000 input data, in every epoch, how many images will you be taking - 128 batches\n",
        "#Iteration = epochs/batch size = 60000/128 = 469\n",
        "\n"
      ],
      "metadata": {
        "id": "G51jr4YCEXzF"
      },
      "execution_count": 111,
      "outputs": []
    },
    {
      "cell_type": "code",
      "source": [
        "history=model.fit(X_train,y_train,batch_size=batch_size, epochs=epochs, verbose=1, validation_data=(X_test,y_test))"
      ],
      "metadata": {
        "colab": {
          "base_uri": "https://localhost:8080/"
        },
        "id": "xiQm2GE8FZCW",
        "outputId": "e3adf56c-f8ac-4743-f752-b1ba9ceea781"
      },
      "execution_count": 113,
      "outputs": [
        {
          "output_type": "stream",
          "name": "stdout",
          "text": [
            "Epoch 1/20\n",
            "469/469 [==============================] - 6s 14ms/step - loss: 0.0346 - accuracy: 0.9896 - val_loss: 0.0776 - val_accuracy: 0.9770\n",
            "Epoch 2/20\n",
            "469/469 [==============================] - 6s 13ms/step - loss: 0.0304 - accuracy: 0.9913 - val_loss: 0.0777 - val_accuracy: 0.9769\n",
            "Epoch 3/20\n",
            "469/469 [==============================] - 6s 14ms/step - loss: 0.0269 - accuracy: 0.9920 - val_loss: 0.0692 - val_accuracy: 0.9795\n",
            "Epoch 4/20\n",
            "469/469 [==============================] - 7s 16ms/step - loss: 0.0247 - accuracy: 0.9929 - val_loss: 0.0724 - val_accuracy: 0.9785\n",
            "Epoch 5/20\n",
            "469/469 [==============================] - 8s 16ms/step - loss: 0.0222 - accuracy: 0.9933 - val_loss: 0.0748 - val_accuracy: 0.9783\n",
            "Epoch 6/20\n",
            "469/469 [==============================] - 7s 16ms/step - loss: 0.0201 - accuracy: 0.9945 - val_loss: 0.0709 - val_accuracy: 0.9794\n",
            "Epoch 7/20\n",
            "469/469 [==============================] - 7s 14ms/step - loss: 0.0187 - accuracy: 0.9949 - val_loss: 0.0697 - val_accuracy: 0.9803\n",
            "Epoch 8/20\n",
            "469/469 [==============================] - 6s 13ms/step - loss: 0.0167 - accuracy: 0.9951 - val_loss: 0.0819 - val_accuracy: 0.9766\n",
            "Epoch 9/20\n",
            "469/469 [==============================] - 6s 13ms/step - loss: 0.0147 - accuracy: 0.9959 - val_loss: 0.0751 - val_accuracy: 0.9791\n",
            "Epoch 10/20\n",
            "469/469 [==============================] - 6s 13ms/step - loss: 0.0125 - accuracy: 0.9968 - val_loss: 0.0688 - val_accuracy: 0.9803\n",
            "Epoch 11/20\n",
            "469/469 [==============================] - 6s 13ms/step - loss: 0.0120 - accuracy: 0.9968 - val_loss: 0.0812 - val_accuracy: 0.9780\n",
            "Epoch 12/20\n",
            "469/469 [==============================] - 6s 13ms/step - loss: 0.0128 - accuracy: 0.9964 - val_loss: 0.0759 - val_accuracy: 0.9802\n",
            "Epoch 13/20\n",
            "469/469 [==============================] - 7s 15ms/step - loss: 0.0103 - accuracy: 0.9971 - val_loss: 0.0777 - val_accuracy: 0.9782\n",
            "Epoch 14/20\n",
            "469/469 [==============================] - 7s 14ms/step - loss: 0.0086 - accuracy: 0.9977 - val_loss: 0.0763 - val_accuracy: 0.9791\n",
            "Epoch 15/20\n",
            "469/469 [==============================] - 6s 13ms/step - loss: 0.0079 - accuracy: 0.9979 - val_loss: 0.0733 - val_accuracy: 0.9814\n",
            "Epoch 16/20\n",
            "469/469 [==============================] - 6s 13ms/step - loss: 0.0078 - accuracy: 0.9978 - val_loss: 0.0792 - val_accuracy: 0.9792\n",
            "Epoch 17/20\n",
            "469/469 [==============================] - 6s 13ms/step - loss: 0.0088 - accuracy: 0.9974 - val_loss: 0.0780 - val_accuracy: 0.9798\n",
            "Epoch 18/20\n",
            "469/469 [==============================] - 7s 16ms/step - loss: 0.0080 - accuracy: 0.9977 - val_loss: 0.0792 - val_accuracy: 0.9808\n",
            "Epoch 19/20\n",
            "469/469 [==============================] - 6s 13ms/step - loss: 0.0051 - accuracy: 0.9989 - val_loss: 0.0809 - val_accuracy: 0.9800\n",
            "Epoch 20/20\n",
            "469/469 [==============================] - 7s 14ms/step - loss: 0.0062 - accuracy: 0.9984 - val_loss: 0.1005 - val_accuracy: 0.9764\n"
          ]
        }
      ]
    },
    {
      "cell_type": "code",
      "source": [
        "#Important to unpack accuracy and loss\n",
        "#Accuracy - How many correct predictions are there?\n",
        "\n",
        "#What is printed - First loss is training loss, Second is training accuracy, Third is Val_loss, Fourth Val_accuracy"
      ],
      "metadata": {
        "id": "t0lzjTRDH-9V"
      },
      "execution_count": null,
      "outputs": []
    },
    {
      "cell_type": "code",
      "source": [
        "score=model.evaluate(X_test,y_test,verbose=0)"
      ],
      "metadata": {
        "id": "_gSjbMbqKSz0"
      },
      "execution_count": 114,
      "outputs": []
    },
    {
      "cell_type": "code",
      "source": [
        "print(score)"
      ],
      "metadata": {
        "colab": {
          "base_uri": "https://localhost:8080/"
        },
        "id": "h1fvfyeBKY3E",
        "outputId": "ce34ff67-bb40-4bd5-cc80-63b413970a75"
      },
      "execution_count": 115,
      "outputs": [
        {
          "output_type": "stream",
          "name": "stdout",
          "text": [
            "[0.10045870393514633, 0.9764000177383423]\n"
          ]
        }
      ]
    },
    {
      "cell_type": "markdown",
      "source": [
        "#First thing is the test loss, the second is the test accuracy."
      ],
      "metadata": {
        "id": "sFGb_2H9KcF8"
      }
    },
    {
      "cell_type": "code",
      "source": [
        "print('Test Lost',score[0])"
      ],
      "metadata": {
        "colab": {
          "base_uri": "https://localhost:8080/"
        },
        "id": "9YeGhs7GKnPs",
        "outputId": "2bcba1e9-3f95-45c3-b004-832729ee66cc"
      },
      "execution_count": 116,
      "outputs": [
        {
          "output_type": "stream",
          "name": "stdout",
          "text": [
            "Test Lost 0.10045870393514633\n"
          ]
        }
      ]
    },
    {
      "cell_type": "code",
      "source": [
        "print('Test Accuracy',score[1])"
      ],
      "metadata": {
        "colab": {
          "base_uri": "https://localhost:8080/"
        },
        "id": "8P674Pu7KmQ1",
        "outputId": "6cf9ee71-6466-4642-c916-2461936191a6"
      },
      "execution_count": 117,
      "outputs": [
        {
          "output_type": "stream",
          "name": "stdout",
          "text": [
            "Test Accuracy 0.9764000177383423\n"
          ]
        }
      ]
    },
    {
      "cell_type": "code",
      "source": [],
      "metadata": {
        "id": "YSFakSTFLSHf"
      },
      "execution_count": null,
      "outputs": []
    },
    {
      "cell_type": "code",
      "source": [
        "sns.lineplot(x=history.epoch,y=history.history['loss'])\n",
        "sns.lineplot(x=history.epoch,y=history.history['val_loss'])\n",
        "#Training loss is constantly decreasing, but val loss had some spikes...model is not very good val loss is increasing."
      ],
      "metadata": {
        "colab": {
          "base_uri": "https://localhost:8080/",
          "height": 282
        },
        "id": "lXv2vFpsKrd9",
        "outputId": "e2372f6e-9543-48b1-e4be-930850a5a77b"
      },
      "execution_count": 120,
      "outputs": [
        {
          "output_type": "execute_result",
          "data": {
            "text/plain": [
              "<matplotlib.axes._subplots.AxesSubplot at 0x7ff735e93490>"
            ]
          },
          "metadata": {},
          "execution_count": 120
        },
        {
          "output_type": "display_data",
          "data": {
            "text/plain": [
              "<Figure size 432x288 with 1 Axes>"
            ],
            "image/png": "[encoded data removed]"
          },
          "metadata": {
            "needs_background": "light"
          }
        }
      ]
    },
    {
      "cell_type": "code",
      "source": [
        "sns.lineplot(x=history.epoch,y=history.history['accuracy'])\n",
        "sns.lineplot(x=history.epoch,y=history.history['val_accuracy'])"
      ],
      "metadata": {
        "colab": {
          "base_uri": "https://localhost:8080/",
          "height": 282
        },
        "id": "BZAUD39tLWwu",
        "outputId": "eb26c720-ef82-4b5d-b925-8cd82a314401"
      },
      "execution_count": 121,
      "outputs": [
        {
          "output_type": "execute_result",
          "data": {
            "text/plain": [
              "<matplotlib.axes._subplots.AxesSubplot at 0x7ff735e0c0d0>"
            ]
          },
          "metadata": {},
          "execution_count": 121
        },
        {
          "output_type": "display_data",
          "data": {
            "text/plain": [
              "<Figure size 432x288 with 1 Axes>"
            ],
            "image/png": "[encoded data removed]"
          },
          "metadata": {
            "needs_background": "light"
          }
        }
      ]
    }
  ]
}